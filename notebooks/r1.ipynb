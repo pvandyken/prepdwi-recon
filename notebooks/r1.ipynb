{
 "cells": [
  {
   "cell_type": "code",
   "execution_count": null,
   "metadata": {},
   "outputs": [],
   "source": [
    "from pathlib import Path\n",
    "import numpy as np\n",
    "import os\n",
    "from dipy.io.streamline import load_tractogram\n",
    "import nibabel as nib\n",
    "import matplotlib.pyplot as plt\n",
    "import re\n",
    "import pandas as pd\n",
    "from dipy.segment.clustering import QuickBundles\n",
    "from dipy.segment.metric import AveragePointwiseEuclideanMetric, ResampleFeature\n",
    "import dipy.stats.analysis as dsa\n",
    "\n",
    "import dipy.tracking.streamline as dts"
   ]
  },
  {
   "cell_type": "code",
   "execution_count": null,
   "metadata": {},
   "outputs": [],
   "source": [
    "SLURM_TMPDIR = Path(os.environ.get(\"SLURM_TMPDIR\"))\n",
    "t1_mask_path = Path('/scratch/knavynde/topsy/sub-001/anat/sub-001_space-orig_desc-brain_mask.nii.gz')\n",
    "t1_map_path = Path('/scratch/knavynde/topsy/sub-001/anat/sub-001_acq-MP2RAGE_run-01_T1map.nii.gz')\n",
    "\n",
    "\n",
    "assert t1_mask_path.exists() and t1_map_path.exists()"
   ]
  },
  {
   "cell_type": "code",
   "execution_count": null,
   "metadata": {},
   "outputs": [],
   "source": [
    "t1map = nib.load(t1_map_path)\n",
    "t1map.shape"
   ]
  },
  {
   "cell_type": "code",
   "execution_count": null,
   "metadata": {},
   "outputs": [],
   "source": [
    "data = t1map.get_fdata()\n",
    "mask_data = nib.load(t1_mask_path).get_fdata().astype(bool)\n",
    "masked = np.ma.masked_where(~mask_data, data)\n",
    "r1 = (1/masked).data\n",
    "r1[~mask_data] = 0\n",
    "\n"
   ]
  },
  {
   "cell_type": "code",
   "execution_count": null,
   "metadata": {},
   "outputs": [],
   "source": [
    "plt.figure(figsize=(20, 20))\n",
    "\n",
    "plt.subplot(2, 2, 1)\n",
    "plt.axis(\"off\")\n",
    "plt.imshow(np.rot90(data[..., 200]), cmap=\"gray\")\n",
    "\n",
    "plt.subplot(2, 2, 2)\n",
    "plt.axis(\"off\")\n",
    "plt.imshow(np.rot90(masked[..., 200]), cmap=\"gray\")\n",
    "\n",
    "plt.subplot(2, 2, 3)\n",
    "plt.axis(\"off\")\n",
    "plt.imshow(r1[..., 200].T, cmap=\"gray\")"
   ]
  },
  {
   "cell_type": "code",
   "execution_count": null,
   "metadata": {},
   "outputs": [],
   "source": [
    "r1_nib = nib.Nifti1Image(r1, t1map.affine)\n",
    "nib.save(r1_nib, \"r1test.nii.gz\")"
   ]
  }
 ],
 "metadata": {
  "language_info": {
   "name": "python",
   "pygments_lexer": "ipython3"
  }
 },
 "nbformat": 4,
 "nbformat_minor": 2
}
