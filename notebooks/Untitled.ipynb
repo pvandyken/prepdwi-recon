{
 "cells": [
  {
   "cell_type": "code",
   "execution_count": null,
   "id": "7bbfb6ca-c3f4-4e9d-a181-3fd316e676cd",
   "metadata": {
    "tags": []
   },
   "outputs": [],
   "source": [
    "hub_data.sel(subject=hub_data['group'] == \"FEP\")"
   ]
  },
  {
   "cell_type": "code",
   "execution_count": null,
   "id": "33279167-5c12-40de-b136-e9f383caf6fe",
   "metadata": {
    "tags": []
   },
   "outputs": [],
   "source": []
  }
 ],
 "metadata": {
  "kernelspec": {
   "display_name": "Python 3 (ipykernel)",
   "language": "python",
   "name": "python3"
  },
  "language_info": {
   "codemirror_mode": {
    "name": "ipython",
    "version": 3
   },
   "file_extension": ".py",
   "mimetype": "text/x-python",
   "name": "python",
   "nbconvert_exporter": "python",
   "pygments_lexer": "ipython3",
   "version": "3.10.2"
  }
 },
 "nbformat": 4,
 "nbformat_minor": 5
}
