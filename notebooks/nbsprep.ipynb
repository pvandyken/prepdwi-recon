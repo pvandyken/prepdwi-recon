{
 "cells": [
  {
   "cell_type": "code",
   "execution_count": null,
   "id": "fa53731f-4ba6-421c-b1b2-a6dc56453792",
   "metadata": {
    "tags": []
   },
   "outputs": [],
   "source": [
    "from bids import BIDSLayout\n",
    "import numpy as np\n",
    "import pandas as pd\n",
    "import shutil as sh\n",
    "from pathlib import Path\n",
    "import re\n",
    "from notebooks.bn_metadata import read_metadata"
   ]
  },
  {
   "cell_type": "code",
   "execution_count": null,
   "id": "6e6c6974-b228-4ce5-b190-c5b0d83430cf",
   "metadata": {
    "tags": []
   },
   "outputs": [],
   "source": [
    "layout = BIDSLayout(\"../..\", database_path=\"../../.pybids\", derivatives=True, validate=False)"
   ]
  },
  {
   "cell_type": "code",
   "execution_count": null,
   "id": "17fc60da-4749-4709-8164-266057884c85",
   "metadata": {},
   "outputs": [],
   "source": [
    "WEIGHT=\"sift2\"\n",
    "def get_participants(participant_file):\n",
    "    with open(participant_file) as f:\n",
    "        subs = [match.group(1) for l in f.read().splitlines() if (match := re.match(r'sub-(.*)', l))]\n",
    "    return subs\n",
    "def get_files():\n",
    "    participants = get_participants('../../derivatives/snakedwi-0.1.0/participants.tsv')\n",
    "    subjects = list(\n",
    "        get_subj_metadata()[\"TOPSY ID\"]\n",
    "        .map(subj_to_str)\n",
    "        [lambda df: df.isin(participants)]\n",
    "    )\n",
    "    return layout.get(\n",
    "        subject=subjects,\n",
    "        suffix=\"connectome\",\n",
    "        desc=WEIGHT,\n",
    "        atlas=\"bn246\"\n",
    "    )\n",
    "\n",
    "def get_connectomes():\n",
    "    return np.dstack([np.loadtxt(file.path, delimiter=\",\") for file in get_files()])\n",
    "\n",
    "def get_subjects():\n",
    "    return [file.get_entities()[\"subject\"] for file in get_files()]\n",
    "\n",
    "def get_metadata(hem = None):\n",
    "    metadata = read_metadata()\n",
    "    if hem in (\"L\", \"R\"):\n",
    "        return metadata[metadata[\"hemisphere\"] == hem].reset_index()\n",
    "    return metadata.reset_index()\n",
    "\n",
    "def get_subj_metadata():\n",
    "    df = pd.read_csv(\"../../part\", sep=\"\\t\")\n",
    "    return df[df[\"Patient Cat\"].isin([1, 2])]\n",
    "\n",
    "def subj_to_str(subj):\n",
    "    return f\"{subj:03}\"\n",
    "    \n"
   ]
  },
  {
   "cell_type": "markdown",
   "id": "01468c48",
   "metadata": {},
   "source": [
    "### Connectome Data (Left and Right)"
   ]
  },
  {
   "cell_type": "code",
   "execution_count": null,
   "id": "9634e8da",
   "metadata": {},
   "outputs": [],
   "source": [
    "HEMS = (\"L\", \"R\", None)\n",
    "def get_hemispheric_connectomes():\n",
    "    connectomes = get_connectomes()\n",
    "    for hem in HEMS:\n",
    "        index = get_metadata(hem)[\"Label ID\"]\n",
    "        yield connectomes[(*np.ix_(index, index), ...)]\n",
    "\n",
    "for connectomes, hem in zip(get_hemispheric_connectomes(), HEMS):\n",
    "    base = Path(f\"results/nbs/{WEIGHT}_{hem or 'pan'}_connectomes\")\n",
    "    if base.exists():\n",
    "        sh.rmtree(base)\n",
    "    base.mkdir(exist_ok=True)\n",
    "    for connectome, sub in zip(np.moveaxis(connectomes, -1, 0), get_subjects()):\n",
    "        with base.joinpath(sub).with_suffix(\".txt\").open('w') as f:\n",
    "            for line in np.matrix(connectome):\n",
    "                np.savetxt(f, line, fmt=\"%.10f\")\n",
    "\n"
   ]
  },
  {
   "cell_type": "markdown",
   "id": "b576ee09",
   "metadata": {},
   "source": [
    "### Node MNI Coordinates (Left and Right)"
   ]
  },
  {
   "cell_type": "code",
   "execution_count": null,
   "id": "bfed3ac3",
   "metadata": {},
   "outputs": [],
   "source": [
    "for hem in HEMS:\n",
    "    with Path(f\"results/nbs/coords_{hem or 'pan'}.txt\").open('w') as f:\n",
    "        f.write(\n",
    "            \"\\n\".join(\n",
    "                \" \".join(coord.strip().split(\", \"))\n",
    "                for coord in get_metadata(hem)[\"MNI\"]\n",
    "            )\n",
    "        )"
   ]
  },
  {
   "cell_type": "markdown",
   "id": "33c3d4a3",
   "metadata": {},
   "source": [
    "### Patient Diagnoses"
   ]
  },
  {
   "cell_type": "code",
   "execution_count": null,
   "id": "26cad5ac",
   "metadata": {},
   "outputs": [],
   "source": [
    "with Path(f\"results/nbs/ddx.txt\").open('w') as f:\n",
    "    subs = list(map(int, get_subjects()))\n",
    "    df = get_subj_metadata()\n",
    "    f.write(\n",
    "        \"\\n\".join(\n",
    "            df[df[\"TOPSY ID\"].isin(subs)][\"Patient Cat\"].map({1: \"1 0\", 2: \"0 1\"})\n",
    "        )\n",
    "    )"
   ]
  },
  {
   "cell_type": "markdown",
   "id": "2c199526",
   "metadata": {},
   "source": [
    "### Node Labels"
   ]
  },
  {
   "cell_type": "code",
   "execution_count": null,
   "id": "a1466e5b",
   "metadata": {},
   "outputs": [],
   "source": [
    "with Path(\"results/nbs/node_labels.txt\").open(\"w\") as f:\n",
    "    # Labels the same on both hemispheres\n",
    "    f.write(\"\\n\".join(get_metadata(\"L\")[\"Name\"]))\n",
    "    "
   ]
  }
 ],
 "metadata": {
  "kernelspec": {
   "display_name": "Python 3 (ipykernel)",
   "language": "python",
   "name": "python3"
  },
  "language_info": {
   "codemirror_mode": {
    "name": "ipython",
    "version": 3
   },
   "file_extension": ".py",
   "mimetype": "text/x-python",
   "name": "python",
   "nbconvert_exporter": "python",
   "pygments_lexer": "ipython3",
   "version": "3.10.2"
  }
 },
 "nbformat": 4,
 "nbformat_minor": 5
}
