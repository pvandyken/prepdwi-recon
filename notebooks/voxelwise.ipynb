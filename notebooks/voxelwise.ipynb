{
 "cells": [
  {
   "cell_type": "code",
   "execution_count": null,
   "metadata": {
    "tags": []
   },
   "outputs": [],
   "source": [
    "from __future__ import annotations\n",
    "import pickle\n",
    "import itertools as it\n",
    "import numpy as np\n",
    "import pandas as pd\n",
    "import xarray as xr\n",
    "import networkx as nx\n",
    "\n",
    "import os\n",
    "import subprocess as sp\n",
    "from pathlib import Path\n",
    "import copy\n",
    "import re\n",
    "import matplotlib.pyplot as plt\n",
    "import seaborn as sns\n",
    "import pickle\n",
    "import more_itertools as itx\n",
    "import multiprocessing as mp\n",
    "import tqdm\n",
    "import attrs\n",
    "# import sklearn\n",
    "import shutil\n",
    "import plotly.express as px\n",
    "import functools as ft\n",
    "from typing import Any, List\n",
    "import plotly.graph_objects as go\n",
    "import ipywidgets as widgets\n",
    "import IPython.display as D\n",
    "import imageio.v3 as iio"
   ]
  },
  {
   "cell_type": "code",
   "execution_count": null,
   "metadata": {
    "tags": []
   },
   "outputs": [],
   "source": [
    "os.chdir(\"..\")"
   ]
  },
  {
   "cell_type": "code",
   "execution_count": null,
   "metadata": {
    "tags": []
   },
   "outputs": [],
   "source": [
    "def get_subj_metadata():\n",
    "    return (\n",
    "        pd.read_csv(\"../../part\", sep=\"\\t\")\n",
    "        .rename(columns={\"TOPSY ID\": \"subject\"})\n",
    "        .set_index(\"subject\")\n",
    "        .assign(group=lambda df: df[\"Patient Cat\"].map(cats))\n",
    "    )\n",
    "\n",
    "cats = {1: \"HC\", 2: \"FEP\", 3: \"Treatment 3+ yr\", 4: \"High risk\"}\n",
    "\n",
    "from bids import BIDSLayout\n",
    "\n",
    "def get_participants(participant_file):\n",
    "    with open(participant_file) as f:\n",
    "        subs = [match.group(1) for l in f.read().splitlines() if (match := re.match(r'sub-(.*)', l)) and match.group(1) != \"080\"]\n",
    "    return subs\n",
    "\n",
    "layout = BIDSLayout(\"../..\", derivatives=True, database_path=\"../../.pybids\")\n",
    "layout_get = ft.partial(\n",
    "    layout.get,\n",
    "    subject=get_participants('../../derivatives/snakedwi-0.1.0/participants.tsv'),\n",
    "    datatype=\"dwi\",\n",
    "    suffix=\"connectome\",\n",
    "    atlas=\"bn246\",\n",
    ")"
   ]
  },
  {
   "cell_type": "markdown",
   "metadata": {},
   "source": [
    "### Utility Fuctions"
   ]
  },
  {
   "cell_type": "code",
   "execution_count": null,
   "metadata": {
    "tags": []
   },
   "outputs": [],
   "source": [
    "from notebooks.utils import hex_to_rgb, get_lut, lut_label, titleize, distribution_plot, figures_to_html, plotly_tabulate, NbCache, underscore as __, error_line\n",
    "from notebooks.adjacency_matrix import group_outer, AdjacencyMatrix, filter_edges, community_sort\n",
    "from notebooks.bn_metadata import read_metadata\n",
    "from notebooks.graph_metrics import global_efficiency, local_efficiency\n",
    "from notebooks.plotly_helpers import plotly_grid, matplotlib_to_plotly\n",
    "nb_cache = NbCache(\"connectomics\")"
   ]
  },
  {
   "cell_type": "code",
   "execution_count": null,
   "metadata": {},
   "outputs": [],
   "source": []
  },
  {
   "cell_type": "markdown",
   "metadata": {
    "jp-MarkdownHeadingCollapsed": true,
    "tags": []
   },
   "source": [
    "### Single Subject\n",
    "\n",
    "Here, test a single subject and view the connection density as a histogram"
   ]
  },
  {
   "cell_type": "code",
   "execution_count": null,
   "metadata": {},
   "outputs": [],
   "source": [
    "adj = community_sort(\n",
    "    Subject.from_bids_entry(itx.one(layout_get(subject=\"001\", desc=\"avgFA\")))\n",
    "    .adj\n",
    "    .mask_where(filter_logile(0))\n",
    ")\n",
    "\n",
    "adj = adj.with_metadata(adj.metadata.sort_values(\"hemisphere\"))\n",
    "adj.plot()"
   ]
  },
  {
   "cell_type": "markdown",
   "metadata": {},
   "source": [
    "#### Connection Density\n",
    "\n",
    "Density of connections as threshold increases"
   ]
  },
  {
   "cell_type": "code",
   "execution_count": null,
   "metadata": {},
   "outputs": [],
   "source": [
    "# c = np.genfromtxt(\n",
    "#     layout.get(\n",
    "#         subject=\"001\", datatype=\"dwi\", atlas=ATLAS, suffix=\"connectome\", desc=WEIGHT\n",
    "#     )[0].path, \n",
    "#     delimiter=\",\"\n",
    "# )\n",
    "def connection_density():\n",
    "    densities = []\n",
    "    for entry in layout_get(desc=\"sift2\"):\n",
    "        subj = Subject.from_bids_entry(entry)\n",
    "        if not subj:\n",
    "            continue\n",
    "        for i in range(10):\n",
    "            adj = (\n",
    "                subj\n",
    "                .adj\n",
    "                .mask_where(filter_logile(i))\n",
    "            )\n",
    "\n",
    "            densities.append((subj.id, i, nx.density(adj.graph)))\n",
    "    return pd.DataFrame(\n",
    "            densities,\n",
    "            columns=[\"subject\", \"threshold\", \"density\"]\n",
    "        ).set_index([\"subject\", \"threshold\"])\n",
    "densities = connection_density()"
   ]
  },
  {
   "cell_type": "code",
   "execution_count": null,
   "metadata": {},
   "outputs": [],
   "source": [
    "ds = xr.merge([\n",
    "    get_subj_metadata().to_xarray(),\n",
    "    densities.to_xarray(),\n",
    "])\n",
    "\n",
    "error_line(\n",
    "    __.pipe(\n",
    "        dict(\n",
    "            density=ds.groupby(\"group\").mean(\"subject\")[\"density\"],\n",
    "            std=ds.groupby(\"group\").std(\"subject\")[\"density\"],\n",
    "        ),\n",
    "        lambda _: xr.merge([_]).to_dataframe().reset_index()\n",
    "    ),\n",
    "    x=\"threshold\",\n",
    "    y=\"density\",\n",
    "    color=\"group\",\n",
    "    err=\"std\",\n",
    "\n",
    ")"
   ]
  },
  {
   "cell_type": "markdown",
   "metadata": {},
   "source": [
    "#### Weight distribution"
   ]
  },
  {
   "cell_type": "code",
   "execution_count": null,
   "metadata": {
    "tags": []
   },
   "outputs": [],
   "source": [
    "\n",
    "# Weight distribution plot\n",
    "bins = __.pipe(\n",
    "    adj.filled,\n",
    "    np.concatenate,\n",
    "    len,\n",
    "    np.sqrt,\n",
    "    np.arange,\n",
    ")\n",
    "# bins = (bins - np.min(bins))/np.ptp(bins)\n",
    "fig, axes = plt.subplots(1,2, figsize=(15,5))\n",
    "\n",
    "# Distribution of raw weights\n",
    "rawdist = sns.histplot(adj.masked.flatten(), bins=bins, kde=False, ax=axes[0])\n",
    "rawdist.set(xlabel='Correlation Values', ylabel = 'Density Frequency')\n",
    "\n",
    "# Probability density of log10\n",
    "log10dist = sns.histplot(np.log10(adj.masked).flatten(), kde=False, ax=axes[1])\n",
    "log10dist.set(xlabel='log(weights)')"
   ]
  },
  {
   "cell_type": "markdown",
   "metadata": {},
   "source": [
    "#### Edge Mass Function\n",
    "\n",
    "The total weight held by all edges of a given weight bin"
   ]
  },
  {
   "cell_type": "code",
   "execution_count": null,
   "metadata": {},
   "outputs": [],
   "source": [
    "\n",
    "def edge_mass_function():\n",
    "    cum_weight = []\n",
    "    for entry in layout_get(desc=\"sift2\"):\n",
    "        subj = Subject.from_bids_entry(entry)\n",
    "        if not subj:\n",
    "            continue\n",
    "        adj = (\n",
    "            subj\n",
    "            .adj\n",
    "            .mask_where(filter_logile(0))\n",
    "        )\n",
    "        arr = adj.masked.filled(0)\n",
    "        bins = __.pipe(\n",
    "            # arr,\n",
    "            # np.concatenate,\n",
    "            # len,\n",
    "            # np.sqrt,\n",
    "            246,\n",
    "            np.arange,\n",
    "            lambda _: np.divide(_, np.max(_)),\n",
    "            lambda _: np.multiply(_, np.ptp(arr)),\n",
    "            lambda _: np.add(_, np.min(arr))\n",
    "        )\n",
    "        digitized = np.digitize(arr, bins)\n",
    "        for i in np.unique(digitized):\n",
    "\n",
    "            cum_weight.append((subj.id, i, arr[digitized == i].sum()))\n",
    "    return pd.DataFrame(\n",
    "        cum_weight,\n",
    "        columns=[\"subject\", \"bin\", \"weight\"]\n",
    "    ).set_index([\"subject\", \"bin\"])\n",
    "cum_weight = edge_mass_function()\n"
   ]
  },
  {
   "cell_type": "code",
   "execution_count": null,
   "metadata": {},
   "outputs": [],
   "source": [
    "ds = xr.merge([\n",
    "    get_subj_metadata().to_xarray(),\n",
    "    cum_weight.to_xarray()\n",
    "])\n",
    "\n",
    "error_line(\n",
    "    __.pipe(\n",
    "        dict(\n",
    "            weight=ds.mean(\"subject\")[\"weight\"],\n",
    "            std=ds.std(\"subject\")[\"weight\"],\n",
    "        ),\n",
    "        lambda _: xr.merge([_]).to_dataframe().reset_index()\n",
    "    ),\n",
    "    x=\"bin\",\n",
    "    y=\"weight\",\n",
    "    # color=\"group\",\n",
    "    err=\"std\",\n",
    "\n",
    ")"
   ]
  }
 ],
 "metadata": {
  "kernelspec": {
   "display_name": "Python 3 (ipykernel)",
   "language": "python",
   "name": "python3"
  },
  "language_info": {
   "codemirror_mode": {
    "name": "ipython",
    "version": 3
   },
   "file_extension": ".py",
   "mimetype": "text/x-python",
   "name": "python",
   "nbconvert_exporter": "python",
   "pygments_lexer": "ipython3",
   "version": "3.10.2"
  },
  "vscode": {
   "interpreter": {
    "hash": "31fa35b1ae39ed1b4ac1b881c358404ca5f3421144360cb0e54822825f879d61"
   }
  }
 },
 "nbformat": 4,
 "nbformat_minor": 4
}
