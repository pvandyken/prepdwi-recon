{
 "cells": [
  {
   "cell_type": "code",
   "execution_count": null,
   "metadata": {},
   "outputs": [],
   "source": [
    "from typing import List, Dict, Callable, Generator, TypeVar\n",
    "from pathlib import Path\n",
    "import itertools as it\n",
    "import pandas as pd\n",
    "import os\n",
    "#os.chdir(\"../prepdwi-recon\")\n",
    "\n",
    "T = TypeVar(\"T\")\n",
    "def generate(*args, **kwargs):\n",
    "    def decorate(generator: Callable[..., Generator[T, None, None]], *a, **k) -> Generator[T, None, None]:\n",
    "        return generator(*args, **kwargs)\n",
    "    return decorate\n",
    "\n",
    "rules = [\n",
    "    # \"transform_clusters_to_subject_space\",\n",
    "    # \"tractography_spectral_clustering\",\n",
    "    # \"tractography_registration\",\n",
    "    # \"separate_clusters_by_cluster\",\n",
    "    # \"remove_cluster_outliers\", \n",
    "    # \"convert_tracts_to_vtk\", \n",
    "    # \"collect_registration_output\", \n",
    "    # \"assign_to_anatomical_tracts\", \n",
    "    # \"assess_cluster_location_by_hemisphere\"\n",
    "    # \"compute_ss3t_fiber_orientation_densities\",\n",
    "    \"get_connectome\"\n",
    "]\n",
    "\n",
    "subject_core = {\n",
    "    \"005\": 1,\n",
    "    \"006\": 2,\n",
    "    \"008\": 4,\n",
    "    \"009\": 8,\n",
    "    \"010\": 16,\n",
    "    \"011\": 32,\n",
    "}\n",
    "\n",
    "# paths = [*it.chain(*([*(Path(\"benchmarks\")/rule).iterdir()] for rule in rules))]\n",
    "\n",
    "# print(paths)\n",
    "tsv_data = pd.concat([\n",
    "    pd.read_csv(f\"benchmarks/{rule}/{subject}.tsv\", sep=\"\\t\").assign(\n",
    "        cores=[core], rule=[rule]\n",
    "    ).set_index([\"rule\", \"cores\"]) \n",
    "    for subject, core in subject_core.items() for rule in rules\n",
    "])\n",
    "tsv_data.drop([\"s\", \"io_in\", \"io_out\", \"mean_load\"], axis=1)"
   ]
  },
  {
   "cell_type": "code",
   "execution_count": null,
   "metadata": {},
   "outputs": [],
   "source": [
    "tsv_data = [pd.read_csv(path, sep=\"\\t\") for path in paths]\n",
    "\n",
    "def tables(tsv_data: List[pd.DataFrame]):\n",
    "    table = pd.concat(tsv_data)\n",
    "    table[\"rule\"] = rules\n",
    "    yield table\n",
    "list(tables(tsv_data))\n",
    "# .drop([\"s\"], axis=1).set_index([\"rule\", \"cores\"]).sort_index()"
   ]
  }
 ],
 "metadata": {
  "kernelspec": {
   "display_name": "Python 3 (ipykernel)",
   "language": "python",
   "name": "python3"
  },
  "language_info": {
   "codemirror_mode": {
    "name": "ipython",
    "version": 3
   },
   "file_extension": ".py",
   "mimetype": "text/x-python",
   "name": "python",
   "nbconvert_exporter": "python",
   "pygments_lexer": "ipython3",
   "version": "3.10.2"
  }
 },
 "nbformat": 4,
 "nbformat_minor": 2
}
