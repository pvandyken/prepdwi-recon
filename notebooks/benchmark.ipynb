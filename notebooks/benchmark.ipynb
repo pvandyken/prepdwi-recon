{
 "cells": [
  {
   "cell_type": "code",
   "execution_count": null,
   "metadata": {},
   "outputs": [],
   "source": [
    "from typing import List, Dict, Callable, Generator, TypeVar\n",
    "from pathlib import Path\n",
    "import itertools as it\n",
    "import pandas as pd\n",
    "import os\n",
    "#os.chdir(\"../prepdwi-recon\")\n",
    "\n",
    "T = TypeVar(\"T\")\n",
    "def generate(*args, **kwargs):\n",
    "    def decorate(generator: Callable[..., Generator[T, None, None]], *a, **k) -> Generator[T, None, None]:\n",
    "        return generator(*args, **kwargs)\n",
    "    return decorate\n",
    "\n",
    "rules = [\n",
    "    # \"transform_clusters_to_subject_space\",\n",
    "    # \"tractography_spectral_clustering\",\n",
    "    \"tractography_registration\",\n",
    "    # \"separate_clusters_by_cluster\",\n",
    "    # \"remove_cluster_outliers\", \n",
    "    \"convert_tracts_to_vtk\", \n",
    "    # \"collect_registration_output\", \n",
    "    # \"assign_to_anatomical_tracts\", \n",
    "    # \"assess_cluster_location_by_hemisphere\"\n",
    "]\n",
    "\n",
    "subject_core = {\n",
    "    \"966975\": 1,\n",
    "    \"193845\": 2,\n",
    "    \"187345\": 4,\n",
    "    \"818859\": 8,\n",
    "    \"108323\": 16,\n",
    "    \"132118\": 32,\n",
    "}\n",
    "\n",
    "paths = [*it.chain(*([*(Path(\"benchmarks\")/rule).iterdir()] for rule in rules))]\n",
    "\n",
    "# tsv_data = {core: [pd.read_csv(f\"benchmarks/{rule}/{subject}.tsv\", sep=\"\\t\") for rule in rules] for subject, core in subject_core.items()}\n",
    "\n",
    "# @generate(tsv_data)\n",
    "# def tables(tsv_data: Dict[int, List[pd.DataFrame]]):\n",
    "#     for core, data in tsv_data.items():\n",
    "#         table = pd.concat(data)\n",
    "#         table.loc[:, \"cores\"] = core\n",
    "#         table[\"rule\"] = rules\n",
    "#         yield table\n",
    "\n",
    "# pd.concat(tables).drop([\"s\"], axis=1).set_index([\"rule\", \"cores\"]).sort_index()\n"
   ]
  },
  {
   "cell_type": "code",
   "execution_count": null,
   "metadata": {},
   "outputs": [],
   "source": [
    "tsv_data = [pd.read_csv(path, sep=\"\\t\") for path in paths]\n",
    "\n",
    "@generate(tsv_data)\n",
    "def tables(tsv_data: List[pd.DataFrame]):\n",
    "    table = pd.concat(tsv_data)\n",
    "    table[\"rule\"] = rules\n",
    "    yield table\n",
    "pd.concat(tables).drop([\"s\"], axis=1).set_index([\"rule\", \"cores\"]).sort_index()"
   ]
  }
 ],
 "metadata": {
  "language_info": {
   "name": "python",
   "pygments_lexer": "ipython3"
  }
 },
 "nbformat": 4,
 "nbformat_minor": 2
}
