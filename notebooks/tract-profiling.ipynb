{
 "cells": [
  {
   "cell_type": "code",
   "execution_count": 2,
   "metadata": {},
   "outputs": [],
   "source": [
    "from pathlib import Path\n",
    "import numpy as np\n",
    "import os\n",
    "from dipy.io.streamline import load_tractogram\n",
    "import nibabel as nib\n",
    "import matplotlib.pyplot as plt\n",
    "import pandas as pd\n",
    "from dipy.segment.clustering import QuickBundles\n",
    "from dipy.segment.metric import AveragePointwiseEuclideanMetric, ResampleFeature\n",
    "import dipy.stats.analysis as dsa\n",
    "\n",
    "import dipy.tracking.streamline as dts"
   ]
  },
  {
   "cell_type": "code",
   "execution_count": 3,
   "metadata": {},
   "outputs": [],
   "source": [
    "SLURM_TMPDIR = Path(os.environ.get(\"SLURM_TMPDIR\"))\n",
    "dwi_path = Path(\"/project/6033503/cfmm-bids/Palaniyappan/TOPSY/baseline/correct7T.v0.3.1/prepdwi_v0.0.12c/work/sub-001/dwi/uncorrected_denoise_unring_topup_eddy_regT1/dwi.nii.gz\")\n",
    "t1_path = Path('/scratch/knavynde/topsy/sub-001/anat/sub-001_space-orig_desc-preproc_T1w.nii.gz')\n",
    "t1_map_path = Path('/scratch/knavynde/topsy/sub-001/anat/sub-001_acq-MP2RAGE_run-01_T1map.nii.gz')\n",
    "fa_path = Path('/project/6033503/cfmm-bids/Palaniyappan/TOPSY/baseline/correct7T.v0.3.1/prepdwi_v0.0.12c/work/sub-001/dwi/uncorrected_denoise_unring_topup_eddy_regT1/dti_FA.nii.gz')\n",
    "tracts_path = SLURM_TMPDIR/'tck-tracts'\n",
    "clusters_left = SLURM_TMPDIR/'tck-clusters/left'\n",
    "clusters_right = SLURM_TMPDIR/'tck-clusters/right'"
   ]
  },
  {
   "cell_type": "code",
   "execution_count": null,
   "metadata": {},
   "outputs": [],
   "source": [
    "t1map = nib.load(t1_map_path)"
   ]
  },
  {
   "cell_type": "code",
   "execution_count": null,
   "metadata": {},
   "outputs": [],
   "source": [
    "sup_f_l_path = tracts_path/\"T_Sup-F_left.tck\"\n",
    "tracts = load_tractogram(str(rand_cluster), str(t1_path))"
   ]
  },
  {
   "cell_type": "code",
   "execution_count": null,
   "metadata": {},
   "outputs": [],
   "source": [
    "streamlines = tracts.streamlines\n",
    "tracts_actor = actor.line(streamlines, cmap.line_colors(streamlines))"
   ]
  },
  {
   "cell_type": "code",
   "execution_count": null,
   "metadata": {},
   "outputs": [],
   "source": [
    "data = dwi.get_fdata()[..., 0]\n",
    "mean, std = data[data > 0].mean(), data[data > 0].std()\n",
    "value_range = (mean - 0.5 * std, mean + 1.5 * std)\n",
    "slice_actor = actor.slicer(data, dwi.affine, value_range)"
   ]
  },
  {
   "cell_type": "code",
   "execution_count": null,
   "metadata": {},
   "outputs": [],
   "source": [
    "scene = window.Scene()\n",
    "#slice_actor.display(z=25)\n",
    "scene.add(tracts_actor)\n",
    "#scene.add(slice_actor)\n",
    "scene.reset_camera()\n",
    "scene.elevation(130)\n",
    "img = window.snapshot(scene, size=(1000,1000))\n",
    "plt.figure(figsize=(20, 20))\n",
    "plt.axis(\"off\")\n",
    "plt.imshow(img)"
   ]
  },
  {
   "cell_type": "code",
   "execution_count": 4,
   "metadata": {},
   "outputs": [],
   "source": [
    "class TractProfile:\n",
    "    def __init__(self, streamlines, ref):\n",
    "        print(streamlines)\n",
    "        print(ref)\n",
    "        cluster = load_tractogram(str(streamlines), str(ref))\n",
    "        if cluster is False:\n",
    "            raise Exception(\"Cluster could not be loaded\")\n",
    "        if not cluster:\n",
    "            self.streamlines = None\n",
    "            self.weights = None\n",
    "            return\n",
    "        feature = ResampleFeature(nb_points=100)\n",
    "        metric = AveragePointwiseEuclideanMetric(feature)\n",
    "\n",
    "        qb = QuickBundles(np.inf, metric=metric)\n",
    "        cluster_bundle = qb.cluster(cluster.streamlines)\n",
    "\n",
    "        self.streamlines = dts.orient_by_streamline(\n",
    "            cluster.streamlines,\n",
    "            cluster_bundle.centroids[0]\n",
    "        )\n",
    "\n",
    "        self.weights = dsa.gaussian_weights(self.streamlines)\n",
    "\n",
    "\n",
    "    def get_profile(self, img):\n",
    "        return dsa.afq_profile(\n",
    "            img.get_fdata(),\n",
    "            self.streamlines,\n",
    "            img.affine,\n",
    "            weights=self.weights\n",
    "        )\n",
    "\n",
    "def get_profiles(data, param_maps, ref):\n",
    "    results = np.empty((len(param_maps), len(data), 100))\n",
    "\n",
    "    for i, streamlines in enumerate(data):\n",
    "        profile = TractProfile(streamlines, ref)\n",
    "        for j, param_map in enumerate(param_maps.values()):\n",
    "            if profile.streamlines is not None:\n",
    "                results[j][i] = profile.get_profile(param_map)\n",
    "            else:\n",
    "                results[j][i] = 0\n",
    "    return results.mean(axis=2)\n"
   ]
  },
  {
   "cell_type": "code",
   "execution_count": null,
   "metadata": {},
   "outputs": [],
   "source": [
    "data = clusters_left\n",
    "ref_img = t1_path\n",
    "\n",
    "parameter_maps = {\n",
    "    \"FA\": nib.load(fa_path)\n",
    "}\n",
    "\n",
    "if data.is_dir():\n",
    "    paths = [*data.glob(\"*.tck\")][:100]\n",
    "else:\n",
    "    raise FileNotFoundError(\"Input must be a directory\")\n",
    "\n",
    "profiles = get_profiles(paths, parameter_maps, ref_img)\n",
    "pd.DataFrame(\n",
    "    {\n",
    "        key: data for key, data in zip(parameter_maps, profiles)\n",
    "    }\n",
    ")\n"
   ]
  },
  {
   "cell_type": "code",
   "execution_count": null,
   "metadata": {},
   "outputs": [],
   "source": [
    "import dipy.stats.analysis as dsa\n",
    "\n",
    "weighted_cluster = dsa.gaussian_weights(oriented_cluster)"
   ]
  },
  {
   "cell_type": "code",
   "execution_count": null,
   "metadata": {},
   "outputs": [],
   "source": [
    "fa = nib.load(fa_path)\n",
    "\n",
    "profile = dsa.afq_profile(fa.get_fdata(), oriented_cluster, fa.affine, weights=weighted_cluster)"
   ]
  },
  {
   "cell_type": "code",
   "execution_count": null,
   "metadata": {},
   "outputs": [],
   "source": [
    "plt.figure()\n",
    "axes = plt.axes()\n",
    "axes.set_ylabel(\"Fractional anisotropy\")\n",
    "axes.set_xlabel(\"Node along CST\")\n",
    "plt.plot(profile)\n"
   ]
  }
 ],
 "metadata": {
  "kernelspec": {
   "display_name": "Python 3 (ipykernel)",
   "language": "python",
   "name": "python3"
  },
  "language_info": {
   "codemirror_mode": {
    "name": "ipython",
    "version": 3
   },
   "file_extension": ".py",
   "mimetype": "text/x-python",
   "name": "python",
   "nbconvert_exporter": "python",
   "pygments_lexer": "ipython3",
   "version": "3.7.9"
  },
  "orig_nbformat": 4
 },
 "nbformat": 4,
 "nbformat_minor": 2
}
