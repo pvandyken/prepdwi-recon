{
 "cells": [
  {
   "cell_type": "code",
   "execution_count": 16,
   "metadata": {},
   "outputs": [],
   "source": [
    "from pathlib import Path\n",
    "import numpy as np\n",
    "from dipy.viz import window, actor, colormap as cmap\n",
    "from dipy.io.streamline import load_tractogram\n",
    "import nibabel as nib\n",
    "import matplotlib.pyplot as plt"
   ]
  },
  {
   "cell_type": "code",
   "execution_count": 33,
   "metadata": {},
   "outputs": [],
   "source": [
    "SLURM_TMPDIR = Path(\"/localscratch/knavynde.57350492.0\")\n",
    "dwi_path = Path(\"/project/6033503/cfmm-bids/Palaniyappan/TOPSY/baseline/correct7T.v0.3.1/prepdwi_v0.0.12c/work/sub-001/dwi/uncorrected_denoise_unring_topup_eddy_regT1/dwi.nii.gz\")\n",
    "t1_path = Path('/scratch/knavynde/topsy/sub-001/anat/sub-001_space-orig_desc-preproc_T1w.nii.gz')\n",
    "fa_path = Path('/project/6033503/cfmm-bids/Palaniyappan/TOPSY/baseline/correct7T.v0.3.1/prepdwi_v0.0.12c/work/sub-001/dwi/uncorrected_denoise_unring_topup_eddy_regT1/dti_FA.nii.gz')\n",
    "tracts_path = SLURM_TMPDIR/'tck-tracts'\n",
    "clusters = SLURM_TMPDIR/'tck-clusters/left'"
   ]
  },
  {
   "cell_type": "code",
   "execution_count": 18,
   "metadata": {},
   "outputs": [],
   "source": [
    "rand_cluster = next(clusters.iterdir())"
   ]
  },
  {
   "cell_type": "code",
   "execution_count": 21,
   "metadata": {},
   "outputs": [],
   "source": [
    "sup_f_l_path = tracts_path/\"T_Sup-F_left.tck\"\n",
    "tracts = load_tractogram(str(rand_cluster), str(t1_path))"
   ]
  },
  {
   "cell_type": "code",
   "execution_count": 22,
   "metadata": {},
   "outputs": [
    {
     "name": "stderr",
     "output_type": "stream",
     "text": [
      "/localscratch/knavynde.57350492.0/__virtual_environments__/dipy/lib/python3.7/site-packages/fury/utils.py:97: VisibleDeprecationWarning: Creating an ndarray from ragged nested sequences (which is a list-or-tuple of lists-or-tuples-or ndarrays with different lengths or shapes) is deprecated. If you meant to do this, you must specify 'dtype=object' when creating the ndarray.\n",
      "  data = np.array(data)\n"
     ]
    }
   ],
   "source": [
    "streamlines = tracts.streamlines\n",
    "tracts_actor = actor.line(streamlines, cmap.line_colors(streamlines))"
   ]
  },
  {
   "cell_type": "code",
   "execution_count": 43,
   "metadata": {},
   "outputs": [],
   "source": [
    "data = dwi.get_fdata()[..., 0]\n",
    "mean, std = data[data > 0].mean(), data[data > 0].std()\n",
    "value_range = (mean - 0.5 * std, mean + 1.5 * std)\n",
    "slice_actor = actor.slicer(data, dwi.affine, value_range)"
   ]
  },
  {
   "cell_type": "code",
   "execution_count": null,
   "metadata": {},
   "outputs": [],
   "source": [
    "scene = window.Scene()\n",
    "#slice_actor.display(z=25)\n",
    "scene.add(tracts_actor)\n",
    "#scene.add(slice_actor)\n",
    "scene.reset_camera()\n",
    "scene.elevation(130)\n",
    "img = window.snapshot(scene, size=(1000,1000))\n",
    "plt.figure(figsize=(20, 20))\n",
    "plt.axis(\"off\")\n",
    "plt.imshow(img)"
   ]
  },
  {
   "cell_type": "code",
   "execution_count": 32,
   "metadata": {},
   "outputs": [],
   "source": [
    "from dipy.segment.clustering import QuickBundles\n",
    "from dipy.segment.metric import AveragePointwiseEuclideanMetric, ResampleFeature\n",
    "\n",
    "feature = ResampleFeature(nb_points=100)\n",
    "metric = AveragePointwiseEuclideanMetric(feature)\n",
    "\n",
    "qb = QuickBundles(np.inf, metric=metric)\n",
    "cluster_bundle = qb.cluster(tracts.streamlines)"
   ]
  },
  {
   "cell_type": "code",
   "execution_count": 35,
   "metadata": {},
   "outputs": [],
   "source": [
    "import dipy.tracking.streamline as dts\n",
    "\n",
    "oriented_cluster = dts.orient_by_streamline(tracts.streamlines, cluster_bundle.centroids[0])"
   ]
  },
  {
   "cell_type": "code",
   "execution_count": 39,
   "metadata": {},
   "outputs": [],
   "source": [
    "import dipy.stats.analysis as dsa\n",
    "\n",
    "weighted_cluster = dsa.gaussian_weights(oriented_cluster)"
   ]
  },
  {
   "cell_type": "code",
   "execution_count": 40,
   "metadata": {},
   "outputs": [],
   "source": [
    "fa = nib.load(fa_path)\n",
    "\n",
    "profile = dsa.afq_profile(fa.get_fdata(), oriented_cluster, fa.affine, weights=weighted_cluster)"
   ]
  },
  {
   "cell_type": "code",
   "execution_count": 47,
   "metadata": {},
   "outputs": [
    {
     "data": {
      "text/plain": [
       "[<matplotlib.lines.Line2D at 0x2ba9d9a451d0>]"
      ]
     },
     "execution_count": 47,
     "metadata": {},
     "output_type": "execute_result"
    },
    {
     "data": {
      "image/png": "[encoded data removed]",
      "text/plain": [
       "<Figure size 432x288 with 1 Axes>"
      ]
     },
     "metadata": {
      "needs_background": "light"
     },
     "output_type": "display_data"
    }
   ],
   "source": [
    "plt.figure()\n",
    "axes = plt.axes()\n",
    "axes.set_ylabel(\"Fractional anisotropy\")\n",
    "axes.set_xlabel(\"Node along CST\")\n",
    "plt.plot(profile)\n"
   ]
  }
 ],
 "metadata": {
  "kernelspec": {
   "display_name": "Python 3 (ipykernel)",
   "language": "python",
   "name": "python3"
  },
  "language_info": {
   "codemirror_mode": {
    "name": "ipython",
    "version": 3
   },
   "file_extension": ".py",
   "mimetype": "text/x-python",
   "name": "python",
   "nbconvert_exporter": "python",
   "pygments_lexer": "ipython3",
   "version": "3.7.9"
  },
  "orig_nbformat": 4
 },
 "nbformat": 4,
 "nbformat_minor": 2
}
