{
 "cells": [
  {
   "cell_type": "code",
   "execution_count": null,
   "metadata": {},
   "outputs": [],
   "source": [
    "from pathlib import Path\n",
    "import numpy as np\n",
    "import os\n",
    "from dipy.io.streamline import load_tractogram\n",
    "import nibabel as nib\n",
    "import matplotlib.pyplot as plt\n",
    "import re\n",
    "import pandas as pd\n",
    "from dipy.segment.clustering import QuickBundles\n",
    "from dipy.segment.metric import AveragePointwiseEuclideanMetric, ResampleFeature\n",
    "import dipy.stats.analysis as dsa\n",
    "\n",
    "import dipy.tracking.streamline as dts"
   ]
  },
  {
   "cell_type": "code",
   "execution_count": null,
   "metadata": {},
   "outputs": [],
   "source": [
    "SLURM_TMPDIR = Path(os.environ.get(\"SLURM_TMPDIR\"))\n",
    "dwi_path = Path(\"/project/6033503/cfmm-bids/Palaniyappan/TOPSY/baseline/correct7T.v0.3.1/prepdwi_v0.0.12c/work/sub-001/dwi/uncorrected_denoise_unring_topup_eddy_regT1/dwi.nii.gz\")\n",
    "t1_path = Path('/scratch/knavynde/topsy/sub-001/anat/sub-001_space-orig_desc-preproc_T1w.nii.gz')\n",
    "t1_map_path = Path('/scratch/knavynde/topsy/sub-001/anat/sub-001_acq-MP2RAGE_run-01_T1map.nii.gz')\n",
    "fa_path = Path('/project/6033503/cfmm-bids/Palaniyappan/TOPSY/baseline/correct7T.v0.3.1/prepdwi_v0.0.12c/work/sub-001/dwi/uncorrected_denoise_unring_topup_eddy_regT1/dti_FA.nii.gz')\n",
    "tracts_path = SLURM_TMPDIR/'tck-tracts'\n",
    "clusters_left = SLURM_TMPDIR/'tck-clusters/left'\n",
    "clusters_right = SLURM_TMPDIR/'tck-clusters/right'\n",
    "\n",
    "assert tracts_path.exists() and clusters_left.exists() and clusters_right.exists()"
   ]
  },
  {
   "cell_type": "code",
   "execution_count": null,
   "metadata": {},
   "outputs": [],
   "source": [
    "t1map = nib.load(t1_map_path)"
   ]
  },
  {
   "cell_type": "code",
   "execution_count": null,
   "metadata": {},
   "outputs": [],
   "source": [
    "sup_f_l_path = tracts_path/\"T_Sup-F_left.tck\"\n",
    "tracts = load_tractogram(str(rand_cluster), str(t1_path))"
   ]
  },
  {
   "cell_type": "code",
   "execution_count": null,
   "metadata": {},
   "outputs": [],
   "source": [
    "streamlines = tracts.streamlines\n",
    "tracts_actor = actor.line(streamlines, cmap.line_colors(streamlines))"
   ]
  },
  {
   "cell_type": "code",
   "execution_count": null,
   "metadata": {},
   "outputs": [],
   "source": [
    "data = dwi.get_fdata()[..., 0]\n",
    "mean, std = data[data > 0].mean(), data[data > 0].std()\n",
    "value_range = (mean - 0.5 * std, mean + 1.5 * std)\n",
    "slice_actor = actor.slicer(data, dwi.affine, value_range)"
   ]
  },
  {
   "cell_type": "code",
   "execution_count": null,
   "metadata": {},
   "outputs": [],
   "source": [
    "scene = window.Scene()\n",
    "#slice_actor.display(z=25)\n",
    "scene.add(tracts_actor)\n",
    "#scene.add(slice_actor)\n",
    "scene.reset_camera()\n",
    "scene.elevation(130)\n",
    "img = window.snapshot(scene, size=(1000,1000))\n",
    "plt.figure(figsize=(20, 20))\n",
    "plt.axis(\"off\")\n",
    "plt.imshow(img)"
   ]
  },
  {
   "cell_type": "code",
   "execution_count": null,
   "metadata": {},
   "outputs": [],
   "source": [
    "class TractProfile:\n",
    "    def __init__(self, streamlines, ref):\n",
    "        cluster = load_tractogram(str(streamlines), str(ref))\n",
    "        if cluster is False:\n",
    "            raise Exception(f\"Cluster {streamlines} could not be loaded\")\n",
    "\n",
    "        if not cluster:\n",
    "            self.streamlines = None\n",
    "            return\n",
    "        feature = ResampleFeature(nb_points=100)\n",
    "        metric = AveragePointwiseEuclideanMetric(feature)\n",
    "\n",
    "        qb = QuickBundles(np.inf, metric=metric)\n",
    "        cluster_bundle = qb.cluster(cluster.streamlines)\n",
    "\n",
    "        self.cluster_bundle = cluster_bundle\n",
    "        self.streamlines = cluster.streamlines\n",
    "\n",
    "        self.weights = dsa.gaussian_weights(self.streamlines)\n",
    "\n",
    "\n",
    "    def get_profile(self, img):\n",
    "        return dsa.afq_profile(\n",
    "            img.get_fdata(),\n",
    "            dts.orient_by_streamline(\n",
    "                self.streamlines,\n",
    "                self.cluster_bundle.centroids[0]\n",
    "            ),\n",
    "            img.affine,\n",
    "            weights=self.weights\n",
    "        )\n",
    "\n",
    "\n",
    "def get_profiles_and_streamlines(paths, param_maps, ref):\n",
    "    profiles = np.empty((len(param_maps), len(paths), 100))\n",
    "    streamlines = np.empty(len(paths))\n",
    "\n",
    "    for i, path in enumerate(paths):\n",
    "        profile = TractProfile(path, ref)\n",
    "        if profile.streamlines:\n",
    "            streamlines[i] = len([*profile.streamlines])\n",
    "            for j, param_map in enumerate(param_maps.values()):\n",
    "                profiles[j, i] = profile.get_profile(param_map)\n",
    "        else:\n",
    "            streamlines[i] = 0\n",
    "            profiles[:, i, :] = 0\n",
    "    return profiles.mean(axis=2), streamlines\n"
   ]
  },
  {
   "cell_type": "code",
   "execution_count": null,
   "metadata": {},
   "outputs": [],
   "source": [
    "data = clusters_left\n",
    "ref_img = t1_path\n",
    "\n",
    "parameter_maps = {\n",
    "    \"FA\": nib.load(fa_path)\n",
    "}\n",
    "\n",
    "if data.is_dir():\n",
    "    paths = [*data.glob(\"*.tck\")][:25]\n",
    "else:\n",
    "    raise FileNotFoundError(\"Input must be a directory\")\n",
    "\n",
    "profiles, streamlines = get_profiles_and_streamlines(paths, parameter_maps, ref_img)\n",
    "\n"
   ]
  },
  {
   "cell_type": "code",
   "execution_count": null,
   "metadata": {},
   "outputs": [],
   "source": [
    "cluster_numbers = (\n",
    "    re.search(r'(?<=cluster_)\\d{5}(?=\\.tck$)', str(path))[0] for path in paths\n",
    ")\n",
    "profile_table = pd.DataFrame(\n",
    "    {\n",
    "        key: data for key, data in zip(parameter_maps, profiles)\n",
    "    }\n",
    ").assign(\n",
    "    cluster=pd.Series(cluster_numbers),\n",
    "    subject=1,\n",
    "    streamlines=pd.Series(streamlines)\n",
    ").set_index([\"subject\", \"cluster\"])\n",
    "\n",
    "profile_table\n",
    "with Path(\"test.csv\").open('w') as f:\n",
    "    profile_table.to_csv(f)"
   ]
  },
  {
   "cell_type": "code",
   "execution_count": null,
   "metadata": {},
   "outputs": [],
   "source": [
    "dataframes = (\n",
    "    pd.read_csv(path, index_col=0) for path in [\"test.csv\", \"test.csv\"]\n",
    ")\n",
    "\n",
    "merged = pd.concat(dataframes)\n",
    "with Path(\"all_test.csv\").open('w') as f:\n",
    "    merged.to_csv(f)"
   ]
  },
  {
   "cell_type": "code",
   "execution_count": null,
   "metadata": {},
   "outputs": [],
   "source": [
    "import dipy.stats.analysis as dsa\n",
    "\n",
    "weighted_cluster = dsa.gaussian_weights(oriented_cluster)"
   ]
  },
  {
   "cell_type": "code",
   "execution_count": null,
   "metadata": {},
   "outputs": [],
   "source": []
  },
  {
   "cell_type": "code",
   "execution_count": null,
   "metadata": {},
   "outputs": [],
   "source": [
    "fa = nib.load(fa_path)\n",
    "\n",
    "profile = TractProfile(clusters_left/\"cluster_00733.tck\", t1_path).get_profile(fa)"
   ]
  },
  {
   "cell_type": "code",
   "execution_count": null,
   "metadata": {},
   "outputs": [],
   "source": [
    "plt.figure()\n",
    "axes = plt.axes()\n",
    "axes.set_ylabel(\"Fractional anisotropy\")\n",
    "axes.set_xlabel(\"Node along CST\")\n",
    "plt.plot(profile)\n"
   ]
  }
 ],
 "metadata": {
  "language_info": {
   "name": "python",
   "pygments_lexer": "ipython3"
  }
 },
 "nbformat": 4,
 "nbformat_minor": 2
}
